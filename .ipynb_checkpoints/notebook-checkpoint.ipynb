{
 "cells": [
  {
   "cell_type": "code",
   "execution_count": 88,
   "metadata": {},
   "outputs": [],
   "source": [
    "import pandas as pd\n",
    "\n",
    "\"\"\"\n",
    "TODO: \n",
    "\n",
    "Executable met interface van maken?\n",
    "\n",
    "\"\"\"\n",
    "\n",
    "global df\n",
    "df = pd.read_excel('origineel\\\\Ledenbestand.xlsx')\n",
    "\n",
    "\n",
    "def export_vrouwen():\n",
    "    \"\"\"\n",
    "    Simpele versie van export_gegevens_logic_test.\n",
    "    :return:\n",
    "    \"\"\"\n",
    "    voornaam, tussenvoegsel, achternaam, straat, huisnummer, postcode, woonplaats = [], [], [], [], [], [], []\n",
    "    for i in range(len(df)):\n",
    "        if df['Vrouw'].iloc[i]:\n",
    "            voornaam.append(df['voornaam'].iloc[i])\n",
    "            tussenvoegsel.append(df['tussenvoegsel'].iloc[i])\n",
    "            achternaam.append(df['achternaam'].iloc[i])\n",
    "            straat.append(df['straat'].iloc[i])\n",
    "            huisnummer.append(df['huisnummer'].iloc[i])\n",
    "            postcode.append(df['postcode'].iloc[i])\n",
    "            woonplaats.append(df['woonplaats'].iloc[i])\n",
    "\n",
    "    df_angfo = pd.DataFrame(voornaam, columns=['voornaam'])\n",
    "    df_angfo['tussenvoegsel'] = pd.Series(tussenvoegsel, index=df_angfo.index)\n",
    "    df_angfo['achternaam'] = pd.Series(achternaam, index=df_angfo.index)\n",
    "    df_angfo['straat'] = pd.Series(straat, index=df_angfo.index)\n",
    "    df_angfo['huisnummer'] = pd.Series(huisnummer, index=df_angfo.index)\n",
    "    df_angfo['postcode'] = pd.Series(postcode, index=df_angfo.index)\n",
    "    df_angfo['woonplaats'] = pd.Series(woonplaats, index=df_angfo.index)\n",
    "    df_angfo.to_excel('output\\\\vrouwen_leden.xlsx', 'vrouwen_leden')\n",
    "\n",
    "\n",
    "def export_gegevens(te_doorzoeken_kolom, is_gelijk_aan, exporteer_gegevens, bestandsnaam):\n",
    "    \"\"\"\n",
    "    Dit is een algemene functie welke kijkt welke leden in het ingeladen ledenbestand voldoen aan de logic check.\n",
    "    Wanneer het betreffende lid voldoet dan worden de gegevens zoals deze in de lijst 'kolomen' staan opgeslagen in een\n",
    "    nieuw excel bestand.\n",
    "    De tekst in 'logic_check' en 'kolomen' dienen exact overeen te komen met de betreffende kolomen in het originele\n",
    "    excel bestand.\n",
    "    \n",
    "    Voorbeeld gebruik:\n",
    "    #export_gegevens('Vrouw', True,\n",
    "    #                ['voornaam', 'tussenvoegsel', 'achternaam', 'straat', 'huisnummer', 'postcode', 'woonplaats'],\n",
    "    #                'output\\\\vrouwen_leden.xlsx')\n",
    "\n",
    "    #export_gegevens('lid status', 'erelid',\n",
    "    #                ['voornaam', 'tussenvoegsel', 'achternaam', 'straat', 'huisnummer', 'postcode', 'woonplaats', 'geboortedatum'],\n",
    "    #                'output\\\\ere_leden.xlsx')\n",
    "    \n",
    "    :param logic_check: Een string van de naam van de header waar de logic_check op word uitgevoerd.\n",
    "    :param gegevens: Een array met de namen van de headers welke geexporteerd dienen te worden\n",
    "    :param bestandsnaam: De naam van het te exporteren bestand\n",
    "    :return:\n",
    "    \"\"\"\n",
    "    empt_lists = []\n",
    "    # array met lege lijsten maken\n",
    "    for n in range(len(exporteer_gegevens)):\n",
    "        empt_lists.append([])\n",
    "\n",
    "    # gegevens aan de gemaakte array toevoegen in de betreffende lijsten\n",
    "    for i in range(len(df)):\n",
    "        if df[te_doorzoeken_kolom].iloc[i] == is_gelijk_aan:\n",
    "            for j in range(len(exporteer_gegevens)):\n",
    "                empt_lists[j].append(df[exporteer_gegevens[j]].iloc[i])\n",
    "\n",
    "    df_angfo = pd.DataFrame(empt_lists[0], columns=[exporteer_gegevens[0]])\n",
    "\n",
    "    # geheel omzetten naar een pandas dataframe\n",
    "    for k in range(len(exporteer_gegevens)):\n",
    "        df_angfo[exporteer_gegevens[k]] = pd.Series(empt_lists[k], index=df_angfo.index)\n",
    "\n",
    "    df_angfo.to_excel(bestandsnaam, 'Sheet1')\n",
    "    print('Het bestand is opgeslagen als: %s' % bestandsnaam)"
   ]
  },
  {
   "cell_type": "code",
   "execution_count": 89,
   "metadata": {},
   "outputs": [],
   "source": [
    "def nieuw_ledenbestand():\n",
    "    \"\"\"\n",
    "    Per row in df loop schrijven die door gehele df_a gaat om op een match te controleren.\n",
    "\n",
    "    TODO\n",
    "\n",
    "    Zoek voornaam van df_a in df, noteer indices in lijst1 van df waar dit voorkomt.\n",
    "    Zoek tussenvoegsel van df_a in df, noteer indices in lijst2 van df waar dit voorkomt.\n",
    "    Zoek achterneem van df_a, noteer indices in lijst3 van df waar dit voorkomt.\n",
    "\n",
    "    Bevatten de drie lijsten allemaal een keer hetzelfde getal (index waarde van df)?\n",
    "    Zo ja, dan is er een match.\n",
    "    :return:\n",
    "    \"\"\"\n",
    "    \"\"\"\n",
    "    df_a = pd.read_excel('origineel\\\\Angfo.xlsx')\n",
    "    df_a_naam = pd.DataFrame()\n",
    "    global df\n",
    "    df = df.fillna('')\n",
    "\n",
    "    # (len(df_a['achternaam'].str.contains(df['achternaam'][i], na=False)) == 0)\n",
    "\n",
    "    #  Arrays met complete namen maken\n",
    "    naam_df = []\n",
    "    naam_df_a = []\n",
    "    for i in range(len(df)):\n",
    "        naam_df.append(str(df['voornaam'][i])+' '+str(df['tussenvoegsel'][i])+' '+str(df['achternaam'][i]))\n",
    "    for i in range(len(df_a)):\n",
    "        naam_df_a.append(str(df_a['voornaam'][i])+' '+str(df_a['tussenvoegsel'][i])+' '+str(df_a['achternaam'][i]))\n",
    "\n",
    "    df_namen = pd.DataFrame(naam_df, columns=['naam'])\n",
    "    df_a_namen = pd.DataFrame(naam_df_a, columns=['naam'])\n",
    "\n",
    "    x = df_a_namen['naam'].str.contains(df_namen['naam'][0])\n",
    "    print(x)\n",
    "    \"\"\"\n",
    "\n",
    "nieuw_ledenbestand()"
   ]
  },
  {
   "cell_type": "code",
   "execution_count": 90,
   "metadata": {},
   "outputs": [],
   "source": [
    "a = pd.read_excel('origineel\\\\Ledenbestand.xlsx')\n",
    "b = pd.read_excel('origineel\\\\Angfo.xlsx')\n",
    "\n",
    "# df kopie maken\n",
    "a_origineel = a.copy()\n",
    "b_origineel = b.copy()\n",
    "\n",
    "# drop columns, alleen gehele naam is nodig voor de check \n",
    "# ook wegens het risico dat kolomen andere data kunnen bevatten in beide frames\n",
    "to_drop_a = a.columns.difference(['voornaam', 'achternaam', 'tussenvoegsel'])\n",
    "a.drop(to_drop_a, 1, inplace=True)  # drop alle columns behalve degene in to_drop\n",
    "\n",
    "to_drop_b = b.columns.difference(['voornaam', 'achternaam', 'tussenvoegsel'])\n",
    "b.drop(to_drop_b, 1, inplace=True)  # drop alle columns behalve degene in to_drop\n"
   ]
  },
  {
   "cell_type": "code",
   "execution_count": 143,
   "metadata": {
    "scrolled": true
   },
   "outputs": [
    {
     "data": {
      "text/html": [
       "<div>\n",
       "<table border=\"1\" class=\"dataframe\">\n",
       "  <thead>\n",
       "    <tr style=\"text-align: right;\">\n",
       "      <th></th>\n",
       "      <th>voornaam</th>\n",
       "      <th>achternaam</th>\n",
       "      <th>tussenvoegsel</th>\n",
       "    </tr>\n",
       "  </thead>\n",
       "  <tbody>\n",
       "    <tr>\n",
       "      <th>0</th>\n",
       "      <td>Jan Willem</td>\n",
       "      <td>Slob</td>\n",
       "      <td>NaN</td>\n",
       "    </tr>\n",
       "    <tr>\n",
       "      <th>1</th>\n",
       "      <td>Guus</td>\n",
       "      <td>Taminau</td>\n",
       "      <td>NaN</td>\n",
       "    </tr>\n",
       "    <tr>\n",
       "      <th>2</th>\n",
       "      <td>Jan</td>\n",
       "      <td>Gimmerink</td>\n",
       "      <td>NaN</td>\n",
       "    </tr>\n",
       "    <tr>\n",
       "      <th>3</th>\n",
       "      <td>Kenneth</td>\n",
       "      <td>Goodenough</td>\n",
       "      <td>NaN</td>\n",
       "    </tr>\n",
       "    <tr>\n",
       "      <th>4</th>\n",
       "      <td>Darcy</td>\n",
       "      <td>Da Costa Gomez</td>\n",
       "      <td>NaN</td>\n",
       "    </tr>\n",
       "  </tbody>\n",
       "</table>\n",
       "</div>"
      ],
      "text/plain": [
       "     voornaam      achternaam tussenvoegsel\n",
       "0  Jan Willem            Slob           NaN\n",
       "1        Guus         Taminau           NaN\n",
       "2         Jan       Gimmerink           NaN\n",
       "3     Kenneth      Goodenough           NaN\n",
       "4       Darcy  Da Costa Gomez           NaN"
      ]
     },
     "execution_count": 143,
     "metadata": {},
     "output_type": "execute_result"
    }
   ],
   "source": [
    "a.head()"
   ]
  },
  {
   "cell_type": "code",
   "execution_count": 142,
   "metadata": {
    "scrolled": true
   },
   "outputs": [
    {
     "data": {
      "text/html": [
       "<div>\n",
       "<table border=\"1\" class=\"dataframe\">\n",
       "  <thead>\n",
       "    <tr style=\"text-align: right;\">\n",
       "      <th></th>\n",
       "      <th>voornaam</th>\n",
       "      <th>achternaam</th>\n",
       "      <th>tussenvoegsel</th>\n",
       "    </tr>\n",
       "  </thead>\n",
       "  <tbody>\n",
       "    <tr>\n",
       "      <th>0</th>\n",
       "      <td>Jan Willem</td>\n",
       "      <td>Slob</td>\n",
       "      <td>NaN</td>\n",
       "    </tr>\n",
       "    <tr>\n",
       "      <th>1</th>\n",
       "      <td>Guus</td>\n",
       "      <td>Taminau</td>\n",
       "      <td>NaN</td>\n",
       "    </tr>\n",
       "    <tr>\n",
       "      <th>2</th>\n",
       "      <td>Jan</td>\n",
       "      <td>Gimmerink</td>\n",
       "      <td>NaN</td>\n",
       "    </tr>\n",
       "    <tr>\n",
       "      <th>3</th>\n",
       "      <td>Kenneth</td>\n",
       "      <td>Goodenough</td>\n",
       "      <td>NaN</td>\n",
       "    </tr>\n",
       "    <tr>\n",
       "      <th>4</th>\n",
       "      <td>Darcy</td>\n",
       "      <td>Da Costa Gomez</td>\n",
       "      <td>NaN</td>\n",
       "    </tr>\n",
       "  </tbody>\n",
       "</table>\n",
       "</div>"
      ],
      "text/plain": [
       "     voornaam      achternaam tussenvoegsel\n",
       "0  Jan Willem            Slob           NaN\n",
       "1        Guus         Taminau           NaN\n",
       "2         Jan       Gimmerink           NaN\n",
       "3     Kenneth      Goodenough           NaN\n",
       "4       Darcy  Da Costa Gomez           NaN"
      ]
     },
     "execution_count": 142,
     "metadata": {},
     "output_type": "execute_result"
    }
   ],
   "source": [
    "b.head()"
   ]
  },
  {
   "cell_type": "code",
   "execution_count": 141,
   "metadata": {
    "scrolled": true
   },
   "outputs": [
    {
     "name": "stdout",
     "output_type": "stream",
     "text": [
      "0 389\n",
      "Zit wel in a maar niet in b:  Jan Willem Slob nan\n",
      "1 389\n",
      "Zit wel in a maar niet in b:  Guus Taminau nan\n",
      "2 389\n",
      "Zit wel in a maar niet in b:  Jan Gimmerink nan\n",
      "3 389\n",
      "Zit wel in a maar niet in b:  Kenneth Goodenough nan\n",
      "4 389\n",
      "Zit wel in a maar niet in b:  Darcy Da Costa Gomez nan\n",
      "5 389\n",
      "Zit wel in a maar niet in b:  Junior Haynes nan\n",
      "6 389\n",
      "Zit wel in a maar niet in b:  Rembrandt Donkersloot nan\n",
      "7 389\n",
      "Zit wel in a maar niet in b:  Kevin Ravensberg nan\n"
     ]
    },
    {
     "data": {
      "text/plain": [
       "'\\nTO DO:\\nVoeg ieder lid toe aan een nieuwe df (c) en geef aan of hij/zij wel/geen angfo wilt ontvangen (in een nieuwe kolom)\\n \\n'"
      ]
     },
     "execution_count": 141,
     "metadata": {},
     "output_type": "execute_result"
    }
   ],
   "source": [
    "ij = []\n",
    "\n",
    "# Skipt soms rows terwijl ze wel aan elkaar gelijk zijn? bvb: word niet true bij gelijk de eerste naam (Jan Willem Slob nan)\n",
    "\n",
    "# Iterate over rows van a\n",
    "for i in range(len(a)):\n",
    "    # Iterate over rows van b\n",
    "    for j in range(len(b)):\n",
    "        # Controleer row in a overeenkomt met row uit b\n",
    "        if a.iloc[i, 0] == b.iloc[j, 0] and a.iloc[i, 1] == b.iloc[j, 1] and a.iloc[i, 2] == b.iloc[j, 2]:\n",
    "            #print(a.iloc[i,0],a.iloc[i,1],a.iloc[i,2], '-', b.iloc[j,0],b.iloc[j,1],b.iloc[j,2])\n",
    "            ij.append(1) # De naam van a zit in b\n",
    "            pass\n",
    "        else:\n",
    "            pass # Voeg toe aan c als wilt wel angfo ontvangen\n",
    "    if 1 not in ij:\n",
    "        print(i, j)\n",
    "        print('Zit wel in a maar niet in b: ',a.iloc[i,0],a.iloc[i,1],a.iloc[i,2])\n",
    "        # Voeg toe aan c als wilt geen angfo ontvangen\n",
    "        \n",
    "\"\"\"\n",
    "TO DO:\n",
    "Voeg ieder lid toe aan een nieuwe df (c) en geef aan of hij/zij wel/geen angfo wilt ontvangen (in een nieuwe kolom)\n",
    " \n",
    "\"\"\""
   ]
  },
  {
   "cell_type": "code",
   "execution_count": 133,
   "metadata": {
    "scrolled": true
   },
   "outputs": [
    {
     "name": "stdout",
     "output_type": "stream",
     "text": [
      "true\n"
     ]
    },
    {
     "data": {
      "text/plain": [
       "390"
      ]
     },
     "execution_count": 133,
     "metadata": {},
     "output_type": "execute_result"
    }
   ],
   "source": [
    "i = 0\n",
    "j = 0\n",
    "naam_a = a.iloc[i,0], a.iloc[i,1], a.iloc[i,2]\n",
    "naam_b = b.iloc[j,0], b.iloc[j,1], b.iloc[j,2]\n",
    "\n",
    "if naam_a == naam_b:\n",
    "    print('true')\n",
    "    \n",
    "len(a)\n",
    "len(b)"
   ]
  }
 ],
 "metadata": {
  "kernelspec": {
   "display_name": "Python 3",
   "language": "python",
   "name": "python3"
  },
  "language_info": {
   "codemirror_mode": {
    "name": "ipython",
    "version": 3
   },
   "file_extension": ".py",
   "mimetype": "text/x-python",
   "name": "python",
   "nbconvert_exporter": "python",
   "pygments_lexer": "ipython3",
   "version": "3.6.0"
  }
 },
 "nbformat": 4,
 "nbformat_minor": 2
}
