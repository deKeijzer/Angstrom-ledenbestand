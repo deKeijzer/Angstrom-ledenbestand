{
 "cells": [
  {
   "cell_type": "code",
   "execution_count": 67,
   "metadata": {},
   "outputs": [],
   "source": [
    "import pandas as pd\n",
    "import numpy as np\n",
    "\n",
    "\"\"\"\n",
    "TODO: \n",
    "\n",
    "Executable met interface van maken?\n",
    "\n",
    "\"\"\"\n",
    "\n",
    "global df\n",
    "df = pd.read_excel('input\\\\Ledenbestand.xlsx')\n",
    "\n",
    "\n",
    "def export_vrouwen():\n",
    "    \"\"\"\n",
    "    Simpele versie van export_gegevens.\n",
    "    :return:\n",
    "    \"\"\"\n",
    "    voornaam, tussenvoegsel, achternaam, straat, huisnummer, postcode, woonplaats = [], [], [], [], [], [], []\n",
    "    for i in range(len(df)):\n",
    "        if df['Vrouw'].iloc[i]:\n",
    "            voornaam.append(df['voornaam'].iloc[i])\n",
    "            tussenvoegsel.append(df['tussenvoegsel'].iloc[i])\n",
    "            achternaam.append(df['achternaam'].iloc[i])\n",
    "            straat.append(df['straat'].iloc[i])\n",
    "            huisnummer.append(df['huisnummer'].iloc[i])\n",
    "            postcode.append(df['postcode'].iloc[i])\n",
    "            woonplaats.append(df['woonplaats'].iloc[i])\n",
    "\n",
    "    df_angfo = pd.DataFrame(voornaam, columns=['voornaam'])\n",
    "    df_angfo['tussenvoegsel'] = pd.Series(tussenvoegsel, index=df_angfo.index)\n",
    "    df_angfo['achternaam'] = pd.Series(achternaam, index=df_angfo.index)\n",
    "    df_angfo['straat'] = pd.Series(straat, index=df_angfo.index)\n",
    "    df_angfo['huisnummer'] = pd.Series(huisnummer, index=df_angfo.index)\n",
    "    df_angfo['postcode'] = pd.Series(postcode, index=df_angfo.index)\n",
    "    df_angfo['woonplaats'] = pd.Series(woonplaats, index=df_angfo.index)\n",
    "    df_angfo.to_excel('output\\\\vrouwen_leden.xlsx', 'vrouwen_leden')\n",
    "\n",
    "\n",
    "def export_gegevens(te_doorzoeken_kolom, is_gelijk_aan, exporteer_gegevens, bestandsnaam):\n",
    "    \"\"\"\n",
    "    Dit is een algemene functie welke kijkt welke leden in het ingeladen ledenbestand voldoen aan de logic check.\n",
    "    Wanneer het betreffende lid voldoet dan worden de gegevens zoals deze in de lijst 'kolomen' staan opgeslagen in een\n",
    "    nieuw excel bestand.\n",
    "    De tekst in 'logic_check' en 'kolomen' dienen exact overeen te komen met de betreffende kolomen in het originele\n",
    "    excel bestand.\n",
    "    \n",
    "    Voorbeeld gebruik:\n",
    "    #export_gegevens('Vrouw', True,\n",
    "    #                ['voornaam', 'tussenvoegsel', 'achternaam', 'straat', 'huisnummer', 'postcode', 'woonplaats'],\n",
    "    #                'output\\\\vrouwen_leden.xlsx')\n",
    "\n",
    "    #export_gegevens('lid status', 'erelid',\n",
    "    #                ['voornaam', 'tussenvoegsel', 'achternaam', 'straat', 'huisnummer', 'postcode', 'woonplaats', 'geboortedatum'],\n",
    "    #                'output\\\\ere_leden.xlsx')\n",
    "    \n",
    "    :param logic_check: Een string van de naam van de header waar de logic_check op word uitgevoerd.\n",
    "    :param gegevens: Een array met de namen van de headers welke geexporteerd dienen te worden\n",
    "    :param bestandsnaam: De naam van het te exporteren bestand\n",
    "    :return:\n",
    "    \"\"\"\n",
    "    empt_lists = []\n",
    "    # array met lege lijsten maken\n",
    "    for n in range(len(exporteer_gegevens)):\n",
    "        empt_lists.append([])\n",
    "\n",
    "    # gegevens aan de gemaakte array toevoegen in de betreffende lijsten\n",
    "    for i in range(len(df)):\n",
    "        if df[te_doorzoeken_kolom].iloc[i] == is_gelijk_aan:\n",
    "            for j in range(len(exporteer_gegevens)):\n",
    "                empt_lists[j].append(df[exporteer_gegevens[j]].iloc[i])\n",
    "\n",
    "    df_angfo = pd.DataFrame(empt_lists[0], columns=[exporteer_gegevens[0]])\n",
    "\n",
    "    # geheel omzetten naar een pandas dataframe\n",
    "    for k in range(len(exporteer_gegevens)):\n",
    "        df_angfo[exporteer_gegevens[k]] = pd.Series(empt_lists[k], index=df_angfo.index)\n",
    "\n",
    "    df_angfo.to_excel(bestandsnaam, 'Sheet1')\n",
    "    print('Het bestand is opgeslagen als: %s' % bestandsnaam)"
   ]
  },
  {
   "cell_type": "markdown",
   "metadata": {},
   "source": [
    "<b>Onderstaande code is voor het vernieuwen van het ledenbestand. Dit word gebruikt voor de controle welke personen wel/geen angfo/nieuwsbrief willen ontvangen. Voorheen werd er namelijk met 3 Excel sheets gewerkt. Nu worden deze gegevens in 1 Excel sheet gezet, dit is makkelijker voor de secretaris.</b>"
   ]
  },
  {
   "cell_type": "raw",
   "metadata": {},
   "source": [
    "a = pd.read_excel('input\\\\Ledenbestand.xlsx')\n",
    "a_origineel = a.copy()\n",
    "\n",
    "# drop columns, alleen gehele naam is nodig voor de check \n",
    "# ook wegens het risico dat kolomen andere data kunnen bevatten in beide frames\n",
    "to_drop_a = a.columns.difference(['voornaam', 'achternaam', 'tussenvoegsel'])\n",
    "a.drop(to_drop_a, 1, inplace=True)  # drop alle columns behalve degene in to_drop\n",
    "\n",
    "c = a_origineel\n",
    "c['Angfo'] = np.zeros([len(a_origineel),1], dtype=int) # Een lege pandas kolom toevoegen\n",
    "c['Nieuwsbrief'] = np.zeros([len(a_origineel),1], dtype=int) # Een lege pandas kolom toevoegen\n",
    "\n",
    "\"\"\"\n",
    "Lege kolom toevoegen kan ook dmv:\n",
    "\n",
    "df['Tijdelijk-lid'] = np.zeros([len(df),1], dtype=int) # Een lege pandas kolom toevoegen\n",
    "df['Tijdelijk-lid'] = df['Tijdelijk-lid'].replace(0, '') # nullen vervangen met '' (empty string).\n",
    "\"\"\""
   ]
  },
  {
   "cell_type": "raw",
   "metadata": {},
   "source": [
    "b = pd.read_excel('input\\\\Nieuwsbrief.xlsx')\n",
    "# df kopie maken\n",
    "b_origineel = b.copy()\n",
    "\n",
    "# drop columns, alleen gehele naam is nodig voor de check \n",
    "# ook wegens het risico dat kolomen andere data kunnen bevatten in beide frames\n",
    "to_drop_b = b.columns.difference(['voornaam', 'achternaam', 'tussenvoegsel'])\n",
    "b.drop(to_drop_b, 1, inplace=True)  # drop alle columns behalve degene in to_drop\n"
   ]
  },
  {
   "cell_type": "markdown",
   "metadata": {},
   "source": [
    "Run onderstaande cell voor bijvoorbeeld\n",
    "    <code>te_controleren = 'Nieuwsbrief'</code>. <br>\n",
    "Wijzig vervolgens in bovenstaande cell\n",
    "    <code>b = pd.read_excel('input\\\\Nieuwsbrief.xlsx')</code>.\n",
    "naar\n",
    "<code>b = pd.read_excel('input\\\\Angfo.xlsx')</code>\n",
    "en run bovenstaande cell nogmaals. <br>\n",
    "Wijzig vervolgens in onderstaande cell \n",
    "<code>te_controleren = 'Nieuwsbrief'</code>\n",
    "naar \n",
    "<code>te_controleren = 'Angfo'</code>. <br>"
   ]
  },
  {
   "cell_type": "raw",
   "metadata": {
    "scrolled": false
   },
   "source": [
    "\"\"\"\n",
    "Controleerd of een persoon van a (ledenbestand) in b (angfo) zit.\n",
    "Zo ja, dan word deze toegevoegd aan dataframe d inclusief of hij/zij in b zit.\n",
    "\"\"\"\n",
    "\n",
    "ij = []\n",
    "\n",
    "# Skipt soms rows terwijl ze wel aan elkaar gelijk zijn? bvb: word niet true bij gelijk de eerste naam (Jan Willem Slob nan)\n",
    "\n",
    "te_controleren = 'Nieuwsbrief' # Hetgeen wat gecontroleerd word (angfo/nieuwsbrief), vergeet ingelezen b niet te wijzigen.\n",
    "\n",
    "# Iterate over rows van a\n",
    "for i in range(len(a)):\n",
    "    # Iterate over rows van b\n",
    "    for j in range(len(b)):\n",
    "        # Controleer row in a overeenkomt met row uit b\n",
    "        naam_a = a.iloc[i,0], a.iloc[i,1], a.iloc[i,2]\n",
    "        naam_b = b.iloc[j,0], b.iloc[j,1], b.iloc[j,2]\n",
    "        if naam_a == naam_b:\n",
    "            ij.append(1) # De naam van a zit in b\n",
    "            c.loc[i,te_controleren] = 'TRUE'\n",
    "            pass\n",
    "        else:\n",
    "            pass # Voeg toe aan c als wilt wel angfo ontvangen\n",
    "    if 1 not in ij:\n",
    "        print(i, j)\n",
    "        print('Zit wel in a maar niet in b: ',a.iloc[i,0],a.iloc[i,1],a.iloc[i,2])\n",
    "        c.loc[i,te_controleren] = 'FALSE'\n",
    "        # Voeg toe aan c als wilt geen angfo ontvangen\n",
    "    ij = []        \n",
    "\"\"\"\n",
    "TO DO:\n",
    "Voeg ieder lid toe aan een nieuwe df (c) en geef aan of hij/zij wel/geen angfo wilt ontvangen (in een nieuwe kolom)\n",
    " \n",
    "\"\"\""
   ]
  },
  {
   "cell_type": "raw",
   "metadata": {},
   "source": [
    "\"\"\"\n",
    "Wanneer Angfo en Nieuwsbrief gecheckt zijn kan het ledenbestand worden opgeslagen.\n",
    "\"\"\"\n",
    "c = c.drop([['Field1', 'Veld1', 'rekeningnummer', 'Opmerkingen uitschrijving', 'Post'], axis=1) # Kolomen verwijderen\n",
    "c.to_excel('output/Ledenbestand_nieuw.xlsx', index=False)"
   ]
  },
  {
   "cell_type": "markdown",
   "metadata": {},
   "source": [
    "<b>Einde code voor het vernieuwen van het ledenbestand. <br>\n",
    "Onderstaande code is voor het exporteren van gegevens. </b>"
   ]
  },
  {
   "cell_type": "code",
   "execution_count": 68,
   "metadata": {},
   "outputs": [
    {
     "name": "stdout",
     "output_type": "stream",
     "text": [
      "Het bestand is opgeslagen als: output\\wilt_angfo_alles.xlsx\n",
      "Het bestand is opgeslagen als: output\\wilt_angfo_adres.xlsx\n",
      "Het bestand is opgeslagen als: output\\wilt_nieuwsbrief_alles.xlsx\n",
      "Het bestand is opgeslagen als: output\\wilt_nieuwsbrief_mail.xlsx\n"
     ]
    }
   ],
   "source": [
    "#export_gegevens('Vrouw', True,\n",
    "#                ['voornaam', 'tussenvoegsel', 'achternaam', 'straat', 'huisnummer', 'postcode', 'woonplaats'],\n",
    "#                'output\\\\vrouwen_leden.xlsx')\n",
    "\n",
    "#export_gegevens('lid status', 'erelid',\n",
    "#                ['voornaam', 'tussenvoegsel', 'achternaam', 'straat', 'huisnummer', 'postcode', 'woonplaats', 'geboortedatum'],\n",
    "#                'output\\\\ere_leden.xlsx')\n",
    "\n",
    "export_gegevens('Angfo', True,\n",
    "                ['voornaam', 'tussenvoegsel', 'achternaam', 'straat', 'huisnummer', 'postcode', 'woonplaats', 'telefoon',\n",
    "                 'email', 'geboortedatum', 'liddatum', 'lid status', 'IBAN', 'TN status', 'Opmerkingen', 'Bestuur',\n",
    "                 'Studentnummer', 'Vrouw', 'Angfo', 'Nieuwsbrief'],\n",
    "                'output\\\\wilt_angfo_alles.xlsx')\n",
    "\n",
    "export_gegevens('Angfo', True,\n",
    "                ['voornaam', 'tussenvoegsel', 'achternaam', 'straat', 'huisnummer', 'postcode', 'woonplaats',\n",
    "                 'lid status', 'Bestuur', 'Angfo', 'Nieuwsbrief'],\n",
    "                'output\\\\wilt_angfo_adres.xlsx')\n",
    "\n",
    "export_gegevens('Nieuwsbrief', True,\n",
    "                ['voornaam', 'tussenvoegsel', 'achternaam', 'straat', 'huisnummer', 'postcode', 'woonplaats', 'telefoon',\n",
    "                 'email', 'geboortedatum', 'liddatum', 'lid status', 'IBAN', 'TN status', 'Opmerkingen', 'Bestuur',\n",
    "                 'Studentnummer', 'Vrouw', 'Angfo', 'Nieuwsbrief'],\n",
    "                'output\\\\wilt_nieuwsbrief_alles.xlsx')\n",
    "\n",
    "export_gegevens('Nieuwsbrief', True,\n",
    "                ['voornaam', 'tussenvoegsel', 'achternaam', 'straat', 'huisnummer', 'postcode', 'woonplaats', 'email',\n",
    "                 'lid status', 'Bestuur', 'Angfo', 'Nieuwsbrief'],\n",
    "                'output\\\\wilt_nieuwsbrief_mail.xlsx')"
   ]
  },
  {
   "cell_type": "markdown",
   "metadata": {},
   "source": [
    "Xlsxwriter word gebruikt om het pandas dataframe op te slaan in een Excel sheet. Hierbij word de layout van de Excel sheet ook aangepast."
   ]
  },
  {
   "cell_type": "code",
   "execution_count": 69,
   "metadata": {},
   "outputs": [
    {
     "name": "stdout",
     "output_type": "stream",
     "text": [
      "File saved\n"
     ]
    }
   ],
   "source": [
    "import xlsxwriter\n",
    "\n",
    "# Create a Pandas Excel writer using XlsxWriter as the engine.\n",
    "writer = pd.ExcelWriter('output\\\\ledenbestand.xlsx', engine='xlsxwriter')\n",
    "\n",
    "# Convert the dataframe to an XlsxWriter Excel object.\n",
    "df.to_excel(writer, sheet_name='ledenbestand', index=False)\n",
    "\n",
    "# Get the xlsxwriter workbook and worksheet objects.\n",
    "workbook  = writer.book\n",
    "worksheet = writer.sheets['ledenbestand']\n",
    "\n",
    "# Add some cell formats.\n",
    "format1 = workbook.add_format({'num_format': '#,##0.00'})\n",
    "format2 = workbook.add_format({'num_format': '0%'})\n",
    "f_standaard = workbook.add_format({'center_across':True})\n",
    "f_text = workbook.add_format({'num_format':'@'})\n",
    "f_datum = workbook.add_format({'num_format': 'dd/mm/yy'})\n",
    "\n",
    "worksheet.set_column('A:A', 13.43)\n",
    "worksheet.set_column('B:B', 21)\n",
    "worksheet.set_column('C:C', 13.14)\n",
    "worksheet.set_column('D:D', 27.14)\n",
    "worksheet.set_column('E:E', 11.57, f_text)\n",
    "worksheet.set_column('F:F', 8.43)\n",
    "                   \n",
    "worksheet.set_column('G:G', 24.86)\n",
    "worksheet.set_column('H:H', 11.29, f_text)\n",
    "worksheet.set_column('I:I', 32.57)\n",
    "worksheet.set_column('J:J', 17.57, f_datum)\n",
    "worksheet.set_column('K:K', 17.57, f_datum)\n",
    "worksheet.set_column('L:L', 11.43)\n",
    "worksheet.set_column('M:M', 21.86)\n",
    "worksheet.set_column('N:N', 12.14)\n",
    "worksheet.set_column('O:O', 12.57)\n",
    "worksheet.set_column('P:P', 9)\n",
    "worksheet.set_column('Q:Q', 15)\n",
    "worksheet.set_column('R:R', 6.14)\n",
    "worksheet.set_column('S:S', 5.57)\n",
    "worksheet.set_column('T:T', 11.29)\n",
    "worksheet.set_column('U:U', 10.43)\n",
    "\n",
    "# Close the Pandas Excel writer and output the Excel file.\n",
    "writer.save()\n",
    "\n",
    "print('File saved')"
   ]
  },
  {
   "cell_type": "code",
   "execution_count": null,
   "metadata": {},
   "outputs": [],
   "source": []
  }
 ],
 "metadata": {
  "kernelspec": {
   "display_name": "Python 3",
   "language": "python",
   "name": "python3"
  },
  "language_info": {
   "codemirror_mode": {
    "name": "ipython",
    "version": 3
   },
   "file_extension": ".py",
   "mimetype": "text/x-python",
   "name": "python",
   "nbconvert_exporter": "python",
   "pygments_lexer": "ipython3",
   "version": "3.6.0"
  }
 },
 "nbformat": 4,
 "nbformat_minor": 2
}
